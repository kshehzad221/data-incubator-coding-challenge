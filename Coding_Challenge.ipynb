{
 "cells": [
  {
   "cell_type": "markdown",
   "metadata": {},
   "source": [
    "# Data Incubator Coding Challenge"
   ]
  },
  {
   "cell_type": "code",
   "execution_count": 1,
   "metadata": {},
   "outputs": [],
   "source": [
    "import numpy as np\n",
    "import re"
   ]
  },
  {
   "cell_type": "markdown",
   "metadata": {},
   "source": [
    "---"
   ]
  },
  {
   "cell_type": "markdown",
   "metadata": {},
   "source": [
    "## Reading Data via the Prompts"
   ]
  },
  {
   "cell_type": "code",
   "execution_count": 2,
   "metadata": {
    "scrolled": false
   },
   "outputs": [
    {
     "name": "stdout",
     "output_type": "stream",
     "text": [
      "Please enter the accuracy (# of digits): 3\n",
      "\n",
      "Please enter a number (type Exit to terminate):\n",
      "1\n",
      "mean = 1.0, stdev = 0.0, median = 1.0\n",
      "\n",
      "Please enter a number (type Exit to terminate):\n",
      "2\n",
      "mean = 1.5, stdev = 0.5, median = 1.5\n",
      "\n",
      "Please enter a number (type Exit to terminate):\n",
      "3\n",
      "mean = 2.0, stdev = 0.816, median = 2.0\n",
      "\n",
      "Please enter a number (type Exit to terminate):\n",
      "137.036\n",
      "mean = 35.759, stdev = 58.477, median = 2.5\n",
      "\n",
      "Please enter a number (type Exit to terminate):\n",
      "Exit\n",
      "Done\n"
     ]
    }
   ],
   "source": [
    "# Create an empty list to populate with the data as it arrives\n",
    "data_lst = []\n",
    "# Prompt user for the number of digits of precision\n",
    "prec = int(input(\"Please enter the accuracy (# of digits): \"))\n",
    "print()\n",
    "# Prompt user for the data\n",
    "while True:\n",
    "    user_input = input(\"Please enter a number (type Exit to terminate):\\n\")\n",
    "    if user_input == 'Exit':\n",
    "        break\n",
    "    # handle malformed input by extracting just the number\n",
    "    data = \"\".join(re.findall(r'[-+]?\\d*\\.\\d+|\\d+', user_input))\n",
    "    # Add the data point to the data_list\n",
    "    data_lst.append(float(data))\n",
    "    # Calculate the running mean, standard deviation, and median    \n",
    "    mean = round(np.mean(data_lst), prec)\n",
    "    stdev = round(np.std(data_lst), prec)\n",
    "    median = round(np.median(data_lst), prec)\n",
    "    # Print the running mean, standard deviation, and median    \n",
    "    print('mean = {}, stdev = {}, median = {}\\n'.format(mean, stdev, median))\n",
    "\n",
    "print(\"Done\")"
   ]
  },
  {
   "cell_type": "markdown",
   "metadata": {},
   "source": [
    "### Malformed Input Demo"
   ]
  },
  {
   "cell_type": "code",
   "execution_count": 3,
   "metadata": {
    "scrolled": false
   },
   "outputs": [
    {
     "name": "stdout",
     "output_type": "stream",
     "text": [
      "Please enter the accuracy (# of digits): 3\n",
      "\n",
      "Please enter a number (type Exit to terminate):\n",
      "1\n",
      "mean = 1.0, stdev = 0.0, median = 1.0\n",
      "\n",
      "Please enter a number (type Exit to terminate):\n",
      "2\n",
      "mean = 1.5, stdev = 0.5, median = 1.5\n",
      "\n",
      "Please enter a number (type Exit to terminate):\n",
      "3\n",
      "mean = 2.0, stdev = 0.816, median = 2.0\n",
      "\n",
      "Please enter a number (type Exit to terminate):\n",
      "i137.036s\n",
      "mean = 35.759, stdev = 58.477, median = 2.5\n",
      "\n",
      "Please enter a number (type Exit to terminate):\n",
      "Exit\n",
      "Done\n"
     ]
    }
   ],
   "source": [
    "# Create an empty list to populate with the data as it arrives\n",
    "data_lst = []\n",
    "# Prompt user for the number of digits of precision\n",
    "prec = int(input(\"Please enter the accuracy (# of digits): \"))\n",
    "print()\n",
    "# Prompt user for the data\n",
    "while True:\n",
    "    user_input = input(\"Please enter a number (type Exit to terminate):\\n\")\n",
    "    if user_input == 'Exit':\n",
    "        break\n",
    "    # handle malformed input by extracting just the number\n",
    "    data = \"\".join(re.findall(r'[-+]?\\d*\\.\\d+|\\d+', user_input))\n",
    "    # Add the data point to the data_list\n",
    "    data_lst.append(float(data))\n",
    "    # Calculate the running mean, standard deviation, and median\n",
    "    mean = round(np.mean(data_lst), prec)\n",
    "    stdev = round(np.std(data_lst), prec)\n",
    "    median = round(np.median(data_lst), prec)\n",
    "    # Print the running mean, standard deviation, and median\n",
    "    print('mean = {}, stdev = {}, median = {}\\n'.format(mean, stdev, median))\n",
    "\n",
    "print(\"Done\")"
   ]
  },
  {
   "cell_type": "markdown",
   "metadata": {},
   "source": [
    "---"
   ]
  },
  {
   "cell_type": "markdown",
   "metadata": {},
   "source": [
    "## Reading Data from a File"
   ]
  },
  {
   "cell_type": "code",
   "execution_count": 4,
   "metadata": {
    "scrolled": false
   },
   "outputs": [
    {
     "name": "stdout",
     "output_type": "stream",
     "text": [
      "Please enter the accuracy (# of digits): 3\n",
      "\n",
      "1\n",
      "mean = 1.0, stdev = 0.0, median = 1.0\n",
      "\n",
      "2\n",
      "mean = 1.5, stdev = 0.5, median = 1.5\n",
      "\n",
      "3\n",
      "mean = 2.0, stdev = 0.816, median = 2.0\n",
      "\n",
      "137.036\n",
      "mean = 35.759, stdev = 58.477, median = 2.5\n",
      "\n",
      "Done\n"
     ]
    }
   ],
   "source": [
    "# Create an empty list to populate with the data as it arrives\n",
    "data_lst = []\n",
    "# Prompt user for the number of digits of precision\n",
    "prec = int(input(\"Please enter the accuracy (# of digits): \"))\n",
    "print()\n",
    "# Read data from each line of the file\n",
    "with open('data.txt') as fd:\n",
    "    for line in fd:\n",
    "        print(line.strip())\n",
    "        # handle malformed input by extracting just the number\n",
    "        data = \"\".join(re.findall(r'[-+]?\\d*\\.\\d+|\\d+', line))\n",
    "        # Add the data point to the data_list\n",
    "        data_lst.append(float(data))\n",
    "        # Calculate the running mean, standard deviation, and median\n",
    "        mean = round(np.mean(data_lst), prec)\n",
    "        stdev = round(np.std(data_lst), prec)\n",
    "        median = round(np.median(data_lst), prec)\n",
    "        # Print the running mean, standard deviation, and median\n",
    "        print('mean = {}, stdev = {}, median = {}\\n'.format(mean, stdev, median))\n",
    "\n",
    "print(\"Done\")"
   ]
  },
  {
   "cell_type": "markdown",
   "metadata": {},
   "source": [
    "### Malformed Input Demo"
   ]
  },
  {
   "cell_type": "code",
   "execution_count": 5,
   "metadata": {
    "scrolled": false
   },
   "outputs": [
    {
     "name": "stdout",
     "output_type": "stream",
     "text": [
      "Please enter the accuracy (# of digits): 3\n",
      "\n",
      "1\n",
      "mean = 1.0, stdev = 0.0, median = 1.0\n",
      "\n",
      "2\n",
      "mean = 1.5, stdev = 0.5, median = 1.5\n",
      "\n",
      "3\n",
      "mean = 2.0, stdev = 0.816, median = 2.0\n",
      "\n",
      "i137.036s\n",
      "mean = 35.759, stdev = 58.477, median = 2.5\n",
      "\n",
      "Done\n"
     ]
    }
   ],
   "source": [
    "data_lst = []\n",
    "prec = int(input(\"Please enter the accuracy (# of digits): \"))\n",
    "print()\n",
    "with open('data_malformed.txt') as fd:\n",
    "    for line in fd:\n",
    "        print(line.strip())\n",
    "        # handle malformed input by extracting just the number\n",
    "        data = \"\".join(re.findall(r'[-+]?\\d*\\.\\d+|\\d+', line))\n",
    "        data_lst.append(float(data))\n",
    "        # Calculate the running mean, standard deviation, and median\n",
    "        mean = round(np.mean(data_lst), prec)\n",
    "        stdev = round(np.std(data_lst), prec)\n",
    "        median = round(np.median(data_lst), prec)\n",
    "        # Print the running mean, standard deviation, and median\n",
    "        print('mean = {}, stdev = {}, median = {}\\n'.format(mean, stdev, median))\n",
    "\n",
    "print(\"Done\")"
   ]
  }
 ],
 "metadata": {
  "kernelspec": {
   "display_name": "Python 3",
   "language": "python",
   "name": "python3"
  },
  "language_info": {
   "codemirror_mode": {
    "name": "ipython",
    "version": 3
   },
   "file_extension": ".py",
   "mimetype": "text/x-python",
   "name": "python",
   "nbconvert_exporter": "python",
   "pygments_lexer": "ipython3",
   "version": "3.7.4"
  }
 },
 "nbformat": 4,
 "nbformat_minor": 2
}
